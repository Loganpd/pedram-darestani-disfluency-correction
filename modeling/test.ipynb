{
 "cells": [
  {
   "metadata": {},
   "cell_type": "markdown",
   "source": "# Importing modules",
   "id": "35589766fea5eec4"
  },
  {
   "cell_type": "code",
   "id": "initial_id",
   "metadata": {
    "collapsed": true
   },
   "source": "from modules import proprietary_evaluation, generate_one",
   "outputs": [],
   "execution_count": null
  },
  {
   "metadata": {},
   "cell_type": "markdown",
   "source": "# Testing on your proprietary dataset",
   "id": "d4bdd94c270e39fa"
  },
  {
   "metadata": {},
   "cell_type": "code",
   "source": [
    "test_file_path = \"PATH_TO_YOUR_DATASET.json\"\n",
    "model_name = 't5-small'\n",
    "tokenizer, model = proprietary_evaluation(test_file_path, model_name, batch_size=128)"
   ],
   "id": "ec31c2872c56bdd4",
   "outputs": [],
   "execution_count": null
  },
  {
   "metadata": {},
   "cell_type": "markdown",
   "source": "# individual sentence testing",
   "id": "2dd56306e7e2abe2"
  },
  {
   "metadata": {},
   "cell_type": "code",
   "source": [
    "prompt = \"Who was the best, no I mean the worst NBA player in all time?\"\n",
    "generate_one(prompt, model, tokenizer)"
   ],
   "id": "2e9d609a0181a859",
   "outputs": [],
   "execution_count": null
  }
 ],
 "metadata": {
  "kernelspec": {
   "display_name": "Python 3",
   "language": "python",
   "name": "python3"
  },
  "language_info": {
   "codemirror_mode": {
    "name": "ipython",
    "version": 2
   },
   "file_extension": ".py",
   "mimetype": "text/x-python",
   "name": "python",
   "nbconvert_exporter": "python",
   "pygments_lexer": "ipython2",
   "version": "2.7.6"
  }
 },
 "nbformat": 4,
 "nbformat_minor": 5
}
